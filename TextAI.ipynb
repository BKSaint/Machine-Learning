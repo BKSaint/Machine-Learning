{
 "cells": [
  {
   "cell_type": "code",
   "execution_count": 2,
   "metadata": {},
   "outputs": [
    {
     "name": "stderr",
     "output_type": "stream",
     "text": [
      "Downloading (…)lve/main/config.json: 100%|██████████| 665/665 [00:00<00:00, 674kB/s]\n",
      "c:\\Users\\saint\\AppData\\Local\\Programs\\Python\\Python310\\lib\\site-packages\\huggingface_hub\\file_download.py:129: UserWarning: `huggingface_hub` cache-system uses symlinks by default to efficiently store duplicated files but your machine does not support them in C:\\Users\\saint\\Documents\\GitHub\\Machine-Learning\\aitextgen. Caching files will still work but in a degraded version that might require more space on your disk. This warning can be disabled by setting the `HF_HUB_DISABLE_SYMLINKS_WARNING` environment variable. For more details, see https://huggingface.co/docs/huggingface_hub/how-to-cache#limitations.\n",
      "To support symlinks on Windows, you either need to activate Developer Mode or to run Python as an administrator. In order to see activate developer mode, see this article: https://docs.microsoft.com/en-us/windows/apps/get-started/enable-your-device-for-development\n",
      "  warnings.warn(message)\n",
      "Downloading (…)\"pytorch_model.bin\";: 100%|██████████| 548M/548M [02:12<00:00, 4.14MB/s] \n",
      "Generate config GenerationConfig {\n",
      "  \"bos_token_id\": 50256,\n",
      "  \"eos_token_id\": 50256,\n",
      "  \"transformers_version\": \"4.26.1\"\n",
      "}\n",
      "\n",
      "Downloading (…)neration_config.json: 100%|██████████| 124/124 [00:00<00:00, 124kB/s]\n",
      "loading configuration file generation_config.json from cache at aitextgen\\models--gpt2\\snapshots\\e7da7f221d5bf496a48136c0cd264e630fe9fcc8\\generation_config.json\n",
      "Generate config GenerationConfig {\n",
      "  \"_from_model_config\": true,\n",
      "  \"bos_token_id\": 50256,\n",
      "  \"eos_token_id\": 50256,\n",
      "  \"transformers_version\": \"4.26.1\"\n",
      "}\n",
      "\n"
     ]
    }
   ],
   "source": [
    "from aitextgen import aitextgen\n",
    "\n",
    "ai = aitextgen()"
   ]
  },
  {
   "cell_type": "code",
   "execution_count": 20,
   "metadata": {},
   "outputs": [
    {
     "name": "stderr",
     "output_type": "stream",
     "text": [
      "Generate config GenerationConfig {\n",
      "  \"bos_token_id\": 50256,\n",
      "  \"eos_token_id\": 50256,\n",
      "  \"transformers_version\": \"4.26.1\"\n",
      "}\n",
      "\n"
     ]
    },
    {
     "name": "stdout",
     "output_type": "stream",
     "text": [
      "\u001b[1mYou're cheating on me?!\u001b[0m I know it's my fault! I'm right here! You need to break off the conversation!\"\n",
      "\n",
      "\"You're right! You're right! I'm right here! I can't hear you! You're right! You're right! I'm right! I can't hear you! You're right! You're right! I can't hear you! You're right! I can't hear you! You're right! You're right!\n",
      "\n",
      "\n",
      "==========\n",
      "\u001b[1mYou're cheating on me?!\u001b[0m I'm not cheating!\n",
      "\n",
      "Climb up to the edge of the cliff and you'll find yourself with a massive boulder crushing you.\n",
      "\n",
      "After you've overcome the boulder, you'll get to the edge of the cliff.\n",
      "\n",
      "This boulder holds the two of you at a crossroads.\n",
      "\n",
      "The other two are standing on the edge of a cliff.\n",
      "\n",
      "Step on the edge of the cliff and you'll be back at your original position\n",
      "==========\n",
      "\u001b[1mYou're cheating on me?!\u001b[0m Why do I have to play with this little girl?! I'm going to play with my little girl.\"\n",
      "\n",
      "\"Oh, I guess I'm not exactly a good fit for her. But she's a little cute. And she loves to play with my little girl.\"\n",
      "\n",
      "\"I know it's not my first time playing with her, but I know she's pretty cute.\"\n",
      "\n",
      "\"I'm not sure she likes me playing with her, but if\n",
      "None\n"
     ]
    }
   ],
   "source": [
    "print(ai.generate(prompt=\"\", max_length=100, n=3))"
   ]
  },
  {
   "cell_type": "code",
   "execution_count": 23,
   "metadata": {},
   "outputs": [
    {
     "name": "stderr",
     "output_type": "stream",
     "text": [
      "Generate config GenerationConfig {\n",
      "  \"bos_token_id\": 50256,\n",
      "  \"eos_token_id\": 50256,\n",
      "  \"transformers_version\": \"4.26.1\"\n",
      "}\n",
      "\n"
     ]
    },
    {
     "name": "stdout",
     "output_type": "stream",
     "text": [
      "\u001b[1mYou're cheating on me, with Bryan?!\u001b[0m?!?\"\n",
      "\n",
      "\"I'm not playing that game!\"\n",
      "\n",
      "\"Yes, you are! I'm playing it with you all the time!\"\n",
      "\n",
      "\"I want you to be the best. There's no better way than that!\"\n",
      "\n",
      "\"Yeah! I want you to be the best! I want you to be the best! Oh, and I'm going to get the best of you at last!\"\n",
      "==========\n",
      "\u001b[1mYou're cheating on me, with Bryan?!\u001b[0m You're so sweet! Just say no to that! I need to get out of here!\" The scene ends with Bryan's mother on the roof of the building.\n",
      "\n",
      "Trivia Edit\n",
      "\n",
      "In the movie, Bryan is portrayed by Michael Cera.\n",
      "\n",
      "Bryan often refers to his mother as \"the queen of the house.\"\n",
      "\n",
      "Bryan is the only character in the movie to have a full beard, which is featured prominently in the title sequence, as well as in the video game.\n",
      "\n",
      "Bryan is the only character in the movie to have a full beard in the opening credits of the movie.\n",
      "\n",
      "Bryan's character name was originally used for \"Bryan\" in the first-person video game and the first-person video game. However, this was changed to \"Bryan\" in the sequel and the game's title screen.\n",
      "\n",
      "Bryan is portrayed by Michael Cera. In the movie, Bryan is the first in the family to have a full beard.\n",
      "\n",
      "In the movie, Bryan is the first in the family to have a full beard. Bryan's character name is also used to refer to his mother as \"Cera\".\n",
      "\n",
      "References Edit\n",
      "==========\n",
      "\u001b[1mYou're cheating on me, with Bryan?!\u001b[0m!\"\n",
      "\n",
      "\"You know you didn't. But, you know you didn't steal my money!\"\n",
      "\n",
      "\"I'll show you if you take it, and you'll be the first one to give me my money back!\"\n",
      "\n",
      "\"Oh, you'll be the first one to do it!\"\n",
      "\n",
      "\"You're a fool!\"\n",
      "\n",
      "\"You'll be the first one to do that!\"\n",
      "\n",
      "\"You do it because you want to!\"\n",
      "\n",
      "\"You'll do it because you want to believe that you're a man!\"\n",
      "\n",
      "\"You do it because you want to marry me!\"\n",
      "\n",
      "\"You do it because you want to stop being so nice.\"\n",
      "\n",
      "\"You do it because you want to change your life!\"\n",
      "\n",
      "\"You do it because you want to stop being so stupid.\"\n",
      "\n",
      "\"You do it because you want to give back to me!\"\n",
      "\n",
      "\"You do it when you're alone! Forgive me for being so stupid!\"\n",
      "\n",
      "\"You do it when you're alone!\"\n",
      "\n",
      "\"You do it when you're going to be the first one to do that!\"\n",
      "\n",
      "\"You do it when you're going to steal my money\n",
      "None\n"
     ]
    }
   ],
   "source": [
    "print(ai.generate(prompt=\"You're cheating on me, with Bryan?!\", n=3))"
   ]
  }
 ],
 "metadata": {
  "kernelspec": {
   "display_name": "Python 3",
   "language": "python",
   "name": "python3"
  },
  "language_info": {
   "codemirror_mode": {
    "name": "ipython",
    "version": 3
   },
   "file_extension": ".py",
   "mimetype": "text/x-python",
   "name": "python",
   "nbconvert_exporter": "python",
   "pygments_lexer": "ipython3",
   "version": "3.10.10"
  },
  "orig_nbformat": 4,
  "vscode": {
   "interpreter": {
    "hash": "333addcf29551a88287ef7f4aef3143ed1730bd2f0b09885b35453971f2d3e45"
   }
  }
 },
 "nbformat": 4,
 "nbformat_minor": 2
}
